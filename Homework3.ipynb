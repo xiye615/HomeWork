{
 "cells": [
  {
   "cell_type": "markdown",
   "metadata": {},
   "source": [
    "1.编写 Python程序,判断输入a是否为质数"
   ]
  },
  {
   "cell_type": "code",
   "execution_count": 1,
   "metadata": {},
   "outputs": [
    {
     "name": "stdout",
     "output_type": "stream",
     "text": [
      "4 不是质数\n"
     ]
    }
   ],
   "source": [
    "def is_prime(a):\n",
    "    if a < 2:\n",
    "        return False\n",
    "    for i in range(2, int(a ** 0.5) + 1):\n",
    "        if a % i == 0:\n",
    "            return False\n",
    "    return True\n",
    "\n",
    "# 测试\n",
    "num = int(input(\"请输入一个数字：\"))\n",
    "if is_prime(num):\n",
    "    print(f\"{num} 是质数\")\n",
    "else:\n",
    "    print(f\"{num} 不是质数\")"
   ]
  },
  {
   "cell_type": "markdown",
   "metadata": {},
   "source": [
    "2.用Python实现插入排序该算法，不允许直接调用插入排序函数，需要手动实现其逻辑过程。"
   ]
  },
  {
   "cell_type": "code",
   "execution_count": 2,
   "metadata": {},
   "outputs": [
    {
     "name": "stdout",
     "output_type": "stream",
     "text": [
      "排序前: [64, 34, 25, 12, 22, 11, 90]\n",
      "排序后: [11, 12, 22, 25, 34, 64, 90]\n"
     ]
    }
   ],
   "source": [
    "def insertion_sort(arr):\n",
    "    for i in range(1, len(arr)):\n",
    "        key = arr[i]\n",
    "        j = i - 1\n",
    "        while j >= 0 and arr[j] > key:\n",
    "            arr[j + 1] = arr[j]\n",
    "            j -= 1\n",
    "        arr[j + 1] = key\n",
    "    return arr\n",
    "\n",
    "# 测试\n",
    "test_arr = [64, 34, 25, 12, 22, 11, 90]\n",
    "print(\"排序前:\", test_arr)\n",
    "print(\"排序后:\", insertion_sort(test_arr))"
   ]
  },
  {
   "cell_type": "markdown",
   "metadata": {},
   "source": [
    "3.用Python实现选择排序该算法，不允许直接调用选择排序函数，需要手动实现其逻辑过程。"
   ]
  },
  {
   "cell_type": "code",
   "execution_count": 3,
   "metadata": {},
   "outputs": [
    {
     "name": "stdout",
     "output_type": "stream",
     "text": [
      "排序前: [64, 34, 25, 12, 22, 11, 90]\n",
      "排序后: [11, 12, 22, 25, 34, 64, 90]\n"
     ]
    }
   ],
   "source": [
    "def selection_sort(arr):\n",
    "    for i in range(len(arr)):\n",
    "        min_idx = i\n",
    "        for j in range(i + 1, len(arr)):\n",
    "            if arr[j] < arr[min_idx]:\n",
    "                min_idx = j\n",
    "        arr[i], arr[min_idx] = arr[min_idx], arr[i]\n",
    "    return arr\n",
    "\n",
    "# 测试\n",
    "test_arr = [64, 34, 25, 12, 22, 11, 90]\n",
    "print(\"排序前:\", test_arr)\n",
    "print(\"排序后:\", selection_sort(test_arr))"
   ]
  },
  {
   "cell_type": "markdown",
   "metadata": {},
   "source": [
    "4.用Python实现快速排序该算法，不允许直接调用快速排序函数，需要手动实现其逻辑过程。"
   ]
  },
  {
   "cell_type": "code",
   "execution_count": 4,
   "metadata": {},
   "outputs": [
    {
     "name": "stdout",
     "output_type": "stream",
     "text": [
      "排序前: [64, 34, 25, 12, 22, 11, 90]\n",
      "排序后: [11, 12, 22, 25, 34, 64, 90]\n"
     ]
    }
   ],
   "source": [
    "def quick_sort(arr):\n",
    "    if len(arr) <= 1:\n",
    "        return arr\n",
    "    pivot = arr[len(arr) // 2]\n",
    "    left = [x for x in arr if x < pivot]\n",
    "    middle = [x for x in arr if x == pivot]\n",
    "    right = [x for x in arr if x > pivot]\n",
    "    return quick_sort(left) + middle + quick_sort(right)\n",
    "\n",
    "# 测试\n",
    "test_arr = [64, 34, 25, 12, 22, 11, 90]\n",
    "print(\"排序前:\", test_arr)\n",
    "print(\"排序后:\", quick_sort(test_arr))"
   ]
  },
  {
   "cell_type": "markdown",
   "metadata": {},
   "source": [
    "5.使用 Python 随机生成三组长度递增的随机数列，长度分别为100、1000、10000，对生成的随机数组使用不同的排序算法，例如选择排序和归并排序，至少三种排序方法。对这些数列的数据排序，并分析不同排序算法在不同长度数列下的运行效果，例如运行时间等指标。（可以使用排序函数）"
   ]
  },
  {
   "cell_type": "code",
   "execution_count": 5,
   "metadata": {},
   "outputs": [
    {
     "name": "stdout",
     "output_type": "stream",
     "text": [
      "\n",
      "数组大小: 100\n",
      "插入排序时间: 0.0000秒\n",
      "选择排序时间: 0.0000秒\n",
      "快速排序时间: 0.0000秒\n",
      "\n",
      "数组大小: 1000\n",
      "插入排序时间: 0.0295秒\n",
      "选择排序时间: 0.0271秒\n",
      "快速排序时间: 0.0024秒\n",
      "\n",
      "数组大小: 10000\n",
      "插入排序时间: 3.1146秒\n",
      "选择排序时间: 2.6233秒\n",
      "快速排序时间: 0.0120秒\n"
     ]
    }
   ],
   "source": [
    "import random\n",
    "import time\n",
    "\n",
    "def generate_random_arrays():\n",
    "    arrays = {\n",
    "        100: [random.randint(1, 1000) for _ in range(100)],\n",
    "        1000: [random.randint(1, 1000) for _ in range(1000)],\n",
    "        10000: [random.randint(1, 1000) for _ in range(10000)]\n",
    "    }\n",
    "    return arrays\n",
    "\n",
    "def measure_sort_time(sort_func, arr):\n",
    "    start_time = time.time()\n",
    "    sorted_arr = sort_func(arr.copy())\n",
    "    end_time = time.time()\n",
    "    return end_time - start_time\n",
    "\n",
    "# 测试各种排序算法\n",
    "arrays = generate_random_arrays()\n",
    "for size, arr in arrays.items():\n",
    "    print(f\"\\n数组大小: {size}\")\n",
    "    print(f\"插入排序时间: {measure_sort_time(insertion_sort, arr):.4f}秒\")\n",
    "    print(f\"选择排序时间: {measure_sort_time(selection_sort, arr):.4f}秒\")\n",
    "    print(f\"快速排序时间: {measure_sort_time(quick_sort, arr):.4f}秒\")"
   ]
  },
  {
   "cell_type": "markdown",
   "metadata": {},
   "source": [
    "6.使用python代码获取当前系统时间"
   ]
  },
  {
   "cell_type": "code",
   "execution_count": 6,
   "metadata": {},
   "outputs": [
    {
     "name": "stdout",
     "output_type": "stream",
     "text": [
      "当前时间: 2024-12-13 23:00:33\n"
     ]
    }
   ],
   "source": [
    "from datetime import datetime\n",
    "\n",
    "current_time = datetime.now()\n",
    "print(\"当前时间:\", current_time.strftime(\"%Y-%m-%d %H:%M:%S\"))"
   ]
  },
  {
   "cell_type": "markdown",
   "metadata": {},
   "source": [
    "7.Homework/data文件夹下的stuGrade.csv文件中包含5位同学的学号、语文成绩、数学成绩和英语成绩，请先用记事本打开该文件，查看文件内容，然后编写Python程序，读取该文件，并计算出各科的平均成绩（保留2位小数）。"
   ]
  },
  {
   "cell_type": "code",
   "execution_count": 4,
   "metadata": {},
   "outputs": [
    {
     "name": "stdout",
     "output_type": "stream",
     "text": [
      "语文平均成绩: 82.6\n",
      "数学平均成绩: 81.0\n",
      "英语平均成绩: 81.8\n"
     ]
    }
   ],
   "source": [
    "import pandas as pd\n",
    "import datetime\n",
    "import time\n",
    "\n",
    "# 读取CSV文件\n",
    "df = pd.read_csv('data/stuGrade.csv')\n",
    "\n",
    "# 计算各科平均成绩\n",
    "chinese_avg = round(df['chinese'].mean(), 2)\n",
    "math_avg = round(df['math'].mean(), 2)\n",
    "english_avg = round(df['english'].mean(), 2)\n",
    "\n",
    "# 获取系统当前时间\n",
    "current_time = datetime.datetime.now().strftime('%Y-%m-%d %H:%M:%S')\n",
    "\n",
    "# 等待2秒\n",
    "time.sleep(2)\n",
    "\n",
    "# 获取两秒后的系统当前时间\n",
    "future_time = datetime.datetime.now().strftime('%Y-%m-%d %H:%M:%S')\n",
    "\n",
    "# 写入my.txt文件\n",
    "with open('my.txt', 'w', encoding='utf-8') as file:\n",
    "    # 第1行：学号和姓名\n",
    "    file.write('10224804401, 颜欣然\\n')\n",
    "    # 第2行：3门课程的平均成绩（任选课程）\n",
    "    file.write(f'{chinese_avg},{math_avg},{english_avg}\\n')\n",
    "    # 第3行：系统当前时间\n",
    "    file.write(f'{current_time}\\n')\n",
    "    # 第4行：两秒后的系统当前时间\n",
    "    file.write(f'{future_time}\\n')\n",
    "\n",
    "# 输出结果\n",
    "print(f\"语文平均成绩: {chinese_avg}\")\n",
    "print(f\"数学平均成绩: {math_avg}\")\n",
    "print(f\"英语平均成绩: {english_avg}\")\n"
   ]
  },
  {
   "cell_type": "markdown",
   "metadata": {},
   "source": [
    "8.请在第7题的代码继续编写Python程序，将以下内容写入my.txt文件中，一并上传到github中。\n",
    "\n",
    "    第1行：你的学号和姓名\n",
    "\n",
    "    第2行：3门课程的平均成绩（任意课程），保留2位小数，以英文逗号间隔\n",
    "\n",
    "    第3行：系统当前时间，格式例如2020-01-01 12:00:00\n",
    "\n",
    "    第4行：两秒后的系统当前时间（利用sleep()方法）"
   ]
  }
 ],
 "metadata": {
  "kernelspec": {
   "display_name": "Python 3",
   "language": "python",
   "name": "python3"
  },
  "language_info": {
   "codemirror_mode": {
    "name": "ipython",
    "version": 3
   },
   "file_extension": ".py",
   "mimetype": "text/x-python",
   "name": "python",
   "nbconvert_exporter": "python",
   "pygments_lexer": "ipython3",
   "version": "3.10.7"
  }
 },
 "nbformat": 4,
 "nbformat_minor": 2
}
