{
 "cells": [
  {
   "cell_type": "markdown",
   "metadata": {},
   "source": [
    "0. 所有的题目结果中，给出SQL语句和执行结果。"
   ]
  },
  {
   "cell_type": "markdown",
   "metadata": {},
   "source": [
    "1. 在新数据库中新建一张 user 表,插入几条数据,属性包含:唯一标识(id),姓名(name)性别(sex).年龄(age).联系方式(phone)，数据如下：\n",
    "\n",
    "    ('John Doe', 'Male', 25, '123-456-7890')\n",
    "\n",
    "    ('Jane Smith', 'Female', 31, '987-654-3210')\n",
    "    \n",
    "    ('Bob Johnson', 'Male', 22, '555-123-4567')"
   ]
  },
  {
   "cell_type": "code",
   "execution_count": 1,
   "metadata": {},
   "outputs": [
    {
     "name": "stdout",
     "output_type": "stream",
     "text": [
      "(1, 'John Doe', 'Male', 25, '123-456-7890')\n",
      "(2, 'Jane Smith', 'Female', 31, '987-654-3210')\n",
      "(3, 'Bob Johnson', 'Male', 22, '555-123-4567')\n"
     ]
    }
   ],
   "source": [
    "import pymysql\n",
    "\n",
    "# 连接到MySQL数据库 (使用root用户连接)\n",
    "connection = pymysql.connect(\n",
    "    host='localhost',      # 数据库主机\n",
    "    user='root',           # 数据库用户名\n",
    "    password='password'    # 数据库密码\n",
    ")\n",
    "\n",
    "cursor = connection.cursor()\n",
    "# 创建数据库\n",
    "cursor.execute(\"CREATE DATABASE IF NOT EXISTS test_db\")\n",
    "# 切换到创建的数据库\n",
    "cursor.execute(\"USE test_db\")\n",
    "cursor.execute(\"drop table if exists user;\")\n",
    "# 创建user表\n",
    "create_table_query = '''\n",
    "CREATE TABLE IF NOT EXISTS user (\n",
    "    id INT AUTO_INCREMENT PRIMARY KEY,\n",
    "    name VARCHAR(100),\n",
    "    sex VARCHAR(10),\n",
    "    age INT,\n",
    "    phone VARCHAR(20)\n",
    ")\n",
    "'''\n",
    "cursor.execute(create_table_query)\n",
    "\n",
    "# 插入数据\n",
    "insert_data_query = '''\n",
    "INSERT INTO user (name, sex, age, phone) \n",
    "VALUES \n",
    "('John Doe', 'Male', 25, '123-456-7890'),\n",
    "('Jane Smith', 'Female', 31, '987-654-3210'),\n",
    "('Bob Johnson', 'Male', 22, '555-123-4567')\n",
    "'''\n",
    "cursor.execute(insert_data_query)\n",
    "\n",
    "# 提交事务\n",
    "connection.commit()\n",
    "\n",
    "# 查询数据并输出表格\n",
    "cursor.execute(\"SELECT * FROM user\")\n",
    "results = cursor.fetchall()\n",
    "for row in results:\n",
    "    print(row)\n",
    "\n",
    "# 关闭连接\n",
    "cursor.close()\n",
    "connection.close()\n"
   ]
  },
  {
   "cell_type": "markdown",
   "metadata": {},
   "source": [
    "2. 写出 SQL语句,查询 user 表中所有年龄在 20-30 范围内的用户"
   ]
  },
  {
   "cell_type": "code",
   "execution_count": null,
   "metadata": {},
   "outputs": [],
   "source": [
    "connection = pymysql.connect(\n",
    "    host='localhost',      # 数据库主机\n",
    "    user='root',           # 数据库用户名\n",
    "    password='password',    # 数据库密码\n",
    "    database='test_db'\n",
    ")\n",
    "\n",
    "# 创建新数据库\n",
    "cursor = connection.cursor()"
   ]
  },
  {
   "cell_type": "code",
   "execution_count": 3,
   "metadata": {},
   "outputs": [
    {
     "name": "stdout",
     "output_type": "stream",
     "text": [
      "(1, 'John Doe', 'Male', 25, '123-456-7890')\n",
      "(3, 'Bob Johnson', 'Male', 22, '555-123-4567')\n"
     ]
    }
   ],
   "source": [
    "select_query_2 = \"SELECT * FROM user WHERE age BETWEEN 20 AND 30;\"\n",
    "cursor.execute(select_query_2)\n",
    "results_2 = cursor.fetchall()\n",
    "for row in results_2:\n",
    "    print(row)"
   ]
  },
  {
   "cell_type": "markdown",
   "metadata": {},
   "source": [
    "3. 写出SQL语句，向user表中添加自己的个人信息，并添加几条和你姓名同姓的虚拟信息。"
   ]
  },
  {
   "cell_type": "code",
   "execution_count": 5,
   "metadata": {},
   "outputs": [
    {
     "name": "stdout",
     "output_type": "stream",
     "text": [
      "(1, 'John Doe', 'Male', 25, '123-456-7890')\n",
      "(2, 'Jane Smith', 'Female', 31, '987-654-3210')\n",
      "(3, 'Bob Johnson', 'Male', 22, '555-123-4567')\n",
      "(4, 'Xinran Yan', 'Female', 20, '555-000-1111')\n",
      "(5, 'Moon Yan', 'Female', 30, '555-111-2222')\n",
      "(6, 'Earth Yan', 'Female', 15, '555-222-3333')\n"
     ]
    }
   ],
   "source": [
    "sql = \"\"\"\n",
    "INSERT INTO user (id, name, sex, age, phone) VALUES\n",
    "    (4, 'Xinran Yan', 'Female', 20, '555-000-1111'),\n",
    "    (5, 'Moon Yan', 'Female', 30, '555-111-2222'),\n",
    "    (6, 'Earth Yan', 'Female', 15, '555-222-3333');\n",
    "\"\"\" \n",
    "cursor.execute(\"SELECT * FROM user\")\n",
    "results = cursor.fetchall()\n",
    "for row in results:\n",
    "    print(row)"
   ]
  },
  {
   "cell_type": "markdown",
   "metadata": {},
   "source": [
    "4. 写出 SQL语句,查询 user 表中年龄在 20-30 范围内,名字包含“你的姓氏”的用户,并按照年龄从大到小排序输出"
   ]
  },
  {
   "cell_type": "code",
   "execution_count": 6,
   "metadata": {},
   "outputs": [
    {
     "name": "stdout",
     "output_type": "stream",
     "text": [
      "(5, 'Moon Yan', 'Female', 30, '555-111-2222')\n",
      "(4, 'Xinran Yan', 'Female', 20, '555-000-1111')\n"
     ]
    }
   ],
   "source": [
    "sql = \"SELECT * FROM user WHERE age BETWEEN 20 AND 30 AND name LIKE '%Yan%' ORDER BY age DESC;\"\n",
    "cursor.execute(sql)\n",
    "results = cursor.fetchall()\n",
    "for row in results:\n",
    "    print(row)"
   ]
  },
  {
   "cell_type": "markdown",
   "metadata": {},
   "source": [
    "5. 写出 SQL 语句,计算 user 表中所有用户的平均年龄"
   ]
  },
  {
   "cell_type": "code",
   "execution_count": 8,
   "metadata": {},
   "outputs": [
    {
     "name": "stdout",
     "output_type": "stream",
     "text": [
      "Average Age: 23.8333\n"
     ]
    }
   ],
   "source": [
    "sql = \"SELECT AVG(age) AS average_age FROM user;\"\n",
    "cursor.execute(sql)\n",
    "result = cursor.fetchone()\n",
    "print(f\"Average Age: {result[0]}\")"
   ]
  },
  {
   "cell_type": "markdown",
   "metadata": {},
   "source": [
    "6. 新建两张表team 表(id,teamName)和score 表(id,teamid,userid,score)。其中score 表中的 teamid 为指向 team表id 的外键，userid 为指向 user表id的外键"
   ]
  },
  {
   "cell_type": "code",
   "execution_count": 9,
   "metadata": {},
   "outputs": [
    {
     "name": "stdout",
     "output_type": "stream",
     "text": [
      "('score',)\n",
      "('team',)\n",
      "('user',)\n"
     ]
    }
   ],
   "source": [
    "cursor.execute(\"\"\"\n",
    "CREATE TABLE team (\n",
    "    id INT AUTO_INCREMENT PRIMARY KEY,\n",
    "    teamName VARCHAR(255)\n",
    ");\n",
    "\"\"\")\n",
    "cursor.execute(\"\"\"\n",
    "CREATE TABLE score (\n",
    "    id INT AUTO_INCREMENT PRIMARY KEY,\n",
    "    teamid INT,\n",
    "    userid INT,\n",
    "    score INT,\n",
    "    FOREIGN KEY (teamid) REFERENCES team(id),\n",
    "    FOREIGN KEY (userid) REFERENCES user(id)\n",
    ");\n",
    "\"\"\")\n",
    "cursor.execute(\"SHOW TABLES\")\n",
    "tables = cursor.fetchall()\n",
    "for table in tables:\n",
    "    print(table)"
   ]
  },
  {
   "cell_type": "markdown",
   "metadata": {},
   "source": [
    "7. 在team表中和score表中插入合适的记录，写出 SQL语句,查询 teamName 为“ECNU”的队伍中，年龄小于 20 的用户们，结果不得为空。"
   ]
  },
  {
   "cell_type": "code",
   "execution_count": 11,
   "metadata": {},
   "outputs": [
    {
     "name": "stdout",
     "output_type": "stream",
     "text": [
      "(6, 'Earth Yan', 'Female', 15, '555-222-3333')\n"
     ]
    }
   ],
   "source": [
    "cursor.execute(\"\"\"\n",
    "INSERT INTO team (teamName) VALUES ('ECNU'), ('PKU');\n",
    "\"\"\")\n",
    "cursor.execute(\"\"\"\n",
    "INSERT INTO score (teamid, userid, score) VALUES\n",
    "    (1, 5, 95),\n",
    "    (1, 6, 88),\n",
    "    (2, 2, 76);\n",
    "\"\"\")\n",
    "select_query_7 = \"\"\"\n",
    "SELECT u.* \n",
    "FROM user u \n",
    "JOIN score s ON u.id = s.userid\n",
    "JOIN team t ON s.teamid = t.id\n",
    "WHERE t.teamName = 'ECNU' AND u.age < 20;\n",
    "\"\"\"\n",
    "cursor.execute(select_query_7)\n",
    "results_7 = cursor.fetchall()\n",
    "for row in results_7:\n",
    "    print(row)\n"
   ]
  },
  {
   "cell_type": "markdown",
   "metadata": {},
   "source": [
    "8. 写出 SQL 语句,计算 teamName为“ECNU”的总分(假设 score 存在 null值,nul值默认为 0 加入计算)。"
   ]
  },
  {
   "cell_type": "code",
   "execution_count": 15,
   "metadata": {},
   "outputs": [
    {
     "name": "stdout",
     "output_type": "stream",
     "text": [
      "Total Score for ECNU: 183\n"
     ]
    }
   ],
   "source": [
    "select_query_8 = \"\"\"\n",
    "SELECT SUM(COALESCE(s.score, 0)) AS total_score \n",
    "FROM score s \n",
    "JOIN team t ON s.teamid = t.id \n",
    "WHERE t.teamName = 'ECNU';\n",
    "\"\"\"\n",
    "cursor.execute(select_query_8)\n",
    "result_8 = cursor.fetchone()\n",
    "\n",
    "print(f\"Total Score for ECNU: {result_8[0]}\")"
   ]
  },
  {
   "cell_type": "markdown",
   "metadata": {},
   "source": [
    "9. 写出SQL语句，删除user表中个人信息的记录。"
   ]
  },
  {
   "cell_type": "code",
   "execution_count": 16,
   "metadata": {},
   "outputs": [
    {
     "name": "stdout",
     "output_type": "stream",
     "text": [
      "(1, 'John Doe', 'Male', 25, '123-456-7890')\n",
      "(2, 'Jane Smith', 'Female', 31, '987-654-3210')\n",
      "(3, 'Bob Johnson', 'Male', 22, '555-123-4567')\n",
      "(5, 'Moon Yan', 'Female', 30, '555-111-2222')\n",
      "(6, 'Earth Yan', 'Female', 15, '555-222-3333')\n"
     ]
    }
   ],
   "source": [
    "cursor.execute(\"DELETE FROM user WHERE id = 4;\")\n",
    "cursor.execute(\"select * from user;\")\n",
    "result = cursor.fetchall()\n",
    "for row in result:\n",
    "    print(row)"
   ]
  },
  {
   "cell_type": "code",
   "execution_count": 17,
   "metadata": {},
   "outputs": [],
   "source": [
    "# 提交事务\n",
    "connection.commit()\n",
    "\n",
    "# 关闭连接\n",
    "cursor.close()\n",
    "connection.close()"
   ]
  }
 ],
 "metadata": {
  "kernelspec": {
   "display_name": "Python 3",
   "language": "python",
   "name": "python3"
  },
  "language_info": {
   "codemirror_mode": {
    "name": "ipython",
    "version": 3
   },
   "file_extension": ".py",
   "mimetype": "text/x-python",
   "name": "python",
   "nbconvert_exporter": "python",
   "pygments_lexer": "ipython3",
   "version": "3.10.7"
  }
 },
 "nbformat": 4,
 "nbformat_minor": 2
}
